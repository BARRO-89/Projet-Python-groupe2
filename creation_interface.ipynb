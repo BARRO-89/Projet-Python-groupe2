{
 "cells": [
  {
   "cell_type": "code",
   "execution_count": 11,
   "id": "a1336fde-bd99-4a11-ac38-81916504fd25",
   "metadata": {
    "tags": []
   },
   "outputs": [],
   "source": [
    "#Importation des librairies\n",
    "import tkinter as tk\n",
    "from tkinter import ttk\n",
    "#import currency\n",
    "\n",
    "\n",
    "root = tk.Tk() \n",
    "root.title(\"Convertisseur de devise - UV-BF_2023\")\n",
    "root.geometry('600x250')\n",
    "\n",
    "#fonction pour recuperer l'element selectionne\n",
    "def action(event):\n",
    "    \n",
    "    # Obtenir l'élément sélectionné\n",
    "    select = listeCombo.get()\n",
    "    #print(\"Vous avez sélectionné : '\", select,\"'\")\n",
    "    return select\n",
    "\n",
    "labelChoix1 = tk.Label(root, text = \"Devise source:\")\n",
    "labelChoix1.pack()\n",
    "#créer la liste Python contenant les éléments de la liste Combobox\n",
    "code_devises=[\"USD\", \"EUR\",\"XOF\",\"CAD\"]\n",
    "#Création de la Combobox via la méthode ttk.Combobox()\n",
    "listeCombo1 = ttk.Combobox(root, values=code_devises)\n",
    "#Choisir l'élément qui s'affiche par défaut\n",
    "listeCombo1.current(0)\n",
    "listeCombo1.pack()\n",
    "listeCombo1.bind(\"<<ComboboxSelected>>\", action)\n",
    "\n",
    "zone_saisie = tk.Entry(root,bg=\"yellow\")\n",
    "saisie = tk.Label(root, text = \"Montant a convertir:\")\n",
    "saisie.pack()\n",
    "zone_saisie.pack() \n",
    "\n",
    "labelChoix2 = tk.Label(root, text = \"Devise destination:\")\n",
    "labelChoix2.pack()\n",
    "\n",
    "#créer la liste Python contenant les éléments de la liste Combobox\n",
    "code_devises=[\"USD\", \"EUR\",\"XOF\",\"CAD\"]\n",
    "#Création de la Combobox via la méthode ttk.Combobox()\n",
    "listeCombo = ttk.Combobox(root, values=code_devises)\n",
    "#Choisir l'élément qui s'affiche par défaut\n",
    "listeCombo.current(0)\n",
    "listeCombo.pack()\n",
    "listeCombo.bind(\"<<ComboboxSelected>>\", action)\n",
    "\n",
    "#Creation du bouton convertir\n",
    "convertir = tk.Button(root, text=\"Convert\", bg= \"green\")\n",
    "convertir.pack()\n",
    "\n",
    "#Creation du bouton Fermer\n",
    "fermer = tk.Button(root, text=\"Fermer\", command= root.quit, activebackground= \"blue\")\n",
    "fermer.pack()\n",
    "root.mainloop()"
   ]
  },
  {
   "cell_type": "code",
   "execution_count": null,
   "id": "a24953d5-7592-4d74-b2e9-18f9b3774ce4",
   "metadata": {
    "tags": []
   },
   "outputs": [],
   "source": []
  },
  {
   "cell_type": "code",
   "execution_count": null,
   "id": "7b956e48-8cf2-46e6-bdb6-76160c4dbb14",
   "metadata": {
    "tags": []
   },
   "outputs": [],
   "source": []
  },
  {
   "cell_type": "code",
   "execution_count": null,
   "id": "8a41f6a9-05c8-451a-91bc-524a9ec4fdc5",
   "metadata": {
    "tags": []
   },
   "outputs": [],
   "source": []
  },
  {
   "cell_type": "code",
   "execution_count": null,
   "id": "383461c1-1d01-4bc0-96a3-2493862e7241",
   "metadata": {},
   "outputs": [],
   "source": []
  }
 ],
 "metadata": {
  "kernelspec": {
   "display_name": "Python 3 (ipykernel)",
   "language": "python",
   "name": "python3"
  },
  "language_info": {
   "codemirror_mode": {
    "name": "ipython",
    "version": 3
   },
   "file_extension": ".py",
   "mimetype": "text/x-python",
   "name": "python",
   "nbconvert_exporter": "python",
   "pygments_lexer": "ipython3",
   "version": "3.11.4"
  }
 },
 "nbformat": 4,
 "nbformat_minor": 5
}
