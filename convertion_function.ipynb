{
 "cells": [
  {
   "cell_type": "markdown",
   "id": "cd1a4888",
   "metadata": {},
   "source": [
    "# GROUP 2 homework\n",
    "## [1] With package 'requests' and some websites\n",
    "### Here we use \"https://v6.exchangerate-api.com\"\n",
    "Data is updated everyday at ~00:00:02\n",
    "\n",
    "Nous allons utiliser le USD comme devise de reference pour effectuer nos conversions\n",
    "\n",
    "By: (Goro, Barro, Koanda, Konseibo)"
   ]
  },
  {
   "cell_type": "code",
   "execution_count": 12,
   "id": "2e5b7568",
   "metadata": {},
   "outputs": [],
   "source": [
    "def convert(d_source='EUR', d_destin='XOF', amount=10, precision=2):\n",
    "    \"\"\" This is a currency convertion function.\n",
    "        Usage: convert(source='EUR', destination='XOF', amount=10, precision=2)\n",
    "    \"\"\"\n",
    "    import requests\n",
    "    from datetime import datetime as dt\n",
    "\n",
    "    # Let's try to read data from the saved file containing today exchange\n",
    "    try:\n",
    "        with open('.conversion_rates.txt', 'r') as f:\n",
    "            mybckp = eval(f.readlines()[0])\n",
    "            last_update = mybckp.get('Update_time')\n",
    "            last_update_utc = dt.strptime(last_update, \"%Y%m%d%H%M%S\")\n",
    "            \n",
    "            # let's check if date in the saved file is the latest\n",
    "            past = int(last_update_utc.strftime(\"%Y%m%d\"))\n",
    "            now = int(dt.now().strftime(\"%Y%m%d\"))\n",
    "            if now > past:\n",
    "                raise Exception(\"The saved data is obsolete\")\n",
    "            conversion_rates = mybckp.get(\"conversion_rates\")\n",
    "            \n",
    "            # except ValueError\n",
    "    except:\n",
    "        print(\"execpt\")\n",
    "        # Making a request to https://v6.exchangerate-api.com\n",
    "        url = 'https://v6.exchangerate-api.com/v6/dea91294134d2f7b96e8c2b3/latest/USD'\n",
    "        response = requests.get(url)\n",
    "        data = response.json()\n",
    "        conversion_rates = data.get('conversion_rates')\n",
    "        last_update_utc = dt.strptime(data.get('time_last_update_utc'), \"%a, %d %b %Y %H:%M:%S %z\")\n",
    "        #last_update_unix = data.get('time_last_update_unix')\n",
    "        #last_update_unix_unit = \"seconds since 1970-01-01 00:00:00 UTC\"\n",
    "        \n",
    "        # let's update data in the backup file\n",
    "        date_to_write_in_file = dt.strftime(last_update_utc, \"'Update_time': '%Y%m%d%H%M%S'\")\n",
    "        #print(date_to_write_in_file)\n",
    "        with open('.conversion_rates.txt', 'w') as f:\n",
    "            f.write(\"{\" + date_to_write_in_file + \", \")\n",
    "            f.write(\"'conversion_rates':\")\n",
    "            f.write(str(conversion_rates))\n",
    "            f.write(\"}\")\n",
    "        \n",
    "    # data is in JSON format i.e a dictionary\n",
    "    #print(data)\n",
    "    last_update_date = dt.strftime(last_update_utc, \"%d/%m/%Y\")\n",
    "    last_update_time = dt.strftime(last_update_utc, \"%H:%M:%S UTC\")\n",
    "    \n",
    "    # rate between USD and source/destination currencies\n",
    "    rate_USD_source = conversion_rates.get(d_source)\n",
    "    rate_USD_destin = conversion_rates.get(d_destin)\n",
    "    \n",
    "    # rate between source and destination currencies\n",
    "    rate_source_destin = float(rate_USD_destin) / float(rate_USD_source)\n",
    "    rate_source_destin_rounded = round(rate_source_destin, precision)\n",
    "    amount_converted = amount * rate_source_destin\n",
    "    amount_converted_rounded = round(amount_converted, precision)\n",
    "    \n",
    "    print(\" 1\", d_source, \"=\", rate_source_destin_rounded, d_destin, \"\\n\")\n",
    "    print(amount, d_source, \"=\", amount_converted_rounded, d_destin, \"\\n\")\n",
    "    print(\"Updated on\", last_update_date, \"at\", last_update_time)\n",
    "    \n",
    "    return amount_converted, rate_source_destin, last_update_date, last_update_time\n",
    "    #return amount_converted_rounded, rate_source_destin_rounded, last_update_date, last_update_time\n",
    "\n"
   ]
  },
  {
   "cell_type": "code",
   "execution_count": 13,
   "id": "325a026e",
   "metadata": {},
   "outputs": [
    {
     "name": "stdout",
     "output_type": "stream",
     "text": [
      " 1 USD = 616.1368 XOF \n",
      "\n",
      "50 USD = 30806.84 XOF \n",
      "\n",
      "Updated on 23/09/2023 at 00:00:01 UTC\n"
     ]
    }
   ],
   "source": [
    "#hello1, hello2, hello3, hello4 = convert()\n",
    "_ = convert('USD', 'XOF', 50, 5)\n",
    "#print()\n"
   ]
  },
  {
   "cell_type": "code",
   "execution_count": 16,
   "id": "96dc843f",
   "metadata": {},
   "outputs": [],
   "source": [
    "def top_n_list():\n",
    "    ## Top 5 best regional currencies\n",
    "    print(\"hello top_n_list\")\n",
    "    ## Top 10 best worldwild currencies"
   ]
  },
  {
   "cell_type": "code",
   "execution_count": null,
   "id": "cd6360fa",
   "metadata": {},
   "outputs": [],
   "source": []
  }
 ],
 "metadata": {
  "kernelspec": {
   "display_name": "Python 3 (ipykernel)",
   "language": "python",
   "name": "python3"
  },
  "language_info": {
   "codemirror_mode": {
    "name": "ipython",
    "version": 3
   },
   "file_extension": ".py",
   "mimetype": "text/x-python",
   "name": "python",
   "nbconvert_exporter": "python",
   "pygments_lexer": "ipython3",
   "version": "3.10.12"
  }
 },
 "nbformat": 4,
 "nbformat_minor": 5
}
